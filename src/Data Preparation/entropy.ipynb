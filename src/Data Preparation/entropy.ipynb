{
 "cells": [
  {
   "cell_type": "code",
   "execution_count": 70,
   "metadata": {},
   "outputs": [],
   "source": [
    "import pandas as pd \n",
    "import numpy as np \n",
    "import math"
   ]
  },
  {
   "cell_type": "markdown",
   "metadata": {},
   "source": [
    "# Criando e testando funções de Entropia"
   ]
  },
  {
   "cell_type": "code",
   "execution_count": 71,
   "metadata": {},
   "outputs": [],
   "source": [
    "# Criar DataFrame de teste\n",
    "df_teste = pd.DataFrame({\n",
    "    'Sexo': ['M', 'F', 'F', 'M'],\n",
    "    'Idade': [30, 25, 40, 35],\n",
    "    'Estado_Civil': ['Casado', 'Solteiro', 'Casado', 'Divorciado'],\n",
    "    'Diagnostico_Depressao': ['Sim', 'Não', 'Sim', 'Não']\n",
    "})\n",
    "\n",
    "# Converter colunas categóricas para o tipo 'category'\n",
    "for coluna in df_teste.select_dtypes(include='object'):\n",
    "    df_teste[coluna] = df_teste[coluna].astype('category')"
   ]
  },
  {
   "cell_type": "code",
   "execution_count": 72,
   "metadata": {},
   "outputs": [
    {
     "name": "stdout",
     "output_type": "stream",
     "text": [
      "Entropias calculadas para variáveis categóricas:\n",
      "A entropia da variável 'Sexo' é: 1.0\n",
      "A entropia da variável 'Estado_Civil' é: 1.5\n",
      "A entropia da variável 'Diagnostico_Depressao' é: 1.0\n",
      "\n",
      "Entropias calculadas para variáveis numéricas:\n",
      "A entropia da variável 'Idade' é: 0.9765625\n"
     ]
    }
   ],
   "source": [
    "\n",
    "\n",
    "# Função para calcular a entropia de uma variável categórica\n",
    "def calcular_entropia_categorica(variavel):\n",
    "    contagem_valores = variavel.value_counts()  # Contagem de ocorrências de cada valor único\n",
    "    total_registros = len(variavel)  # Número total de registros\n",
    "    \n",
    "    # Calcular a probabilidade de cada valor\n",
    "    probabilidades = contagem_valores / total_registros\n",
    "    \n",
    "    # Calcular a entropia\n",
    "    entropia = -sum(p * math.log2(p) if p != 0 else 0 for p in probabilidades)\n",
    "    \n",
    "    return entropia\n",
    "\n",
    "# Função para calcular a entropia de uma variável numérica\n",
    "def calcular_entropia_numerica(variavel):\n",
    "    # Calcular a variância da variável numérica\n",
    "    variancia = variavel.var()\n",
    "    # Normalizar a variância para calcular a entropia\n",
    "    entropia = 1 - (1 / (1 + variancia))\n",
    "    return entropia\n",
    "\n",
    "# Calcular a entropia para cada variável categórica\n",
    "entropias_categoricas = {}\n",
    "for coluna in df_teste.select_dtypes(include='category'):\n",
    "    entropias_categoricas[coluna] = calcular_entropia_categorica(df_teste[coluna])\n",
    "\n",
    "# Calcular a entropia para cada variável numérica\n",
    "entropias_numericas = {}\n",
    "for coluna in df_teste.select_dtypes(include=np.number):\n",
    "    entropias_numericas[coluna] = calcular_entropia_numerica(df_teste[coluna])\n",
    "\n",
    "# Exibir os resultados das entropias calculadas para variáveis categóricas\n",
    "print(\"Entropias calculadas para variáveis categóricas:\")\n",
    "for variavel, entropia in entropias_categoricas.items():\n",
    "    print(f\"A entropia da variável '{variavel}' é: {entropia}\")\n",
    "\n",
    "# Exibir os resultados das entropias calculadas para variáveis numéricas\n",
    "print(\"\\nEntropias calculadas para variáveis numéricas:\")\n",
    "for variavel, entropia in entropias_numericas.items():\n",
    "    print(f\"A entropia da variável '{variavel}' é: {entropia}\")\n"
   ]
  },
  {
   "cell_type": "markdown",
   "metadata": {},
   "source": [
    "# Usando a base"
   ]
  },
  {
   "cell_type": "code",
   "execution_count": 73,
   "metadata": {},
   "outputs": [],
   "source": [
    "df = pd.read_csv(r\"C:\\Users\\maype\\OneDrive\\Área de Trabalho\\projects\\projeto-aprendizado-de-maquina\\Data\\base_tratada2.csv\")"
   ]
  },
  {
   "cell_type": "code",
   "execution_count": 74,
   "metadata": {},
   "outputs": [
    {
     "name": "stdout",
     "output_type": "stream",
     "text": [
      "<class 'pandas.core.frame.DataFrame'>\n",
      "RangeIndex: 39879 entries, 0 to 39878\n",
      "Data columns (total 62 columns):\n",
      " #   Column                           Non-Null Count  Dtype  \n",
      "---  ------                           --------------  -----  \n",
      " 0   Unnamed: 0                       39879 non-null  int64  \n",
      " 1   Sexo                             39879 non-null  float64\n",
      " 2   Apoio_Familiar                   39879 non-null  float64\n",
      " 3   Apoio_de_Amigos                  39879 non-null  float64\n",
      " 4   Tipo_de_Trabalho                 39879 non-null  float64\n",
      " 5   Curso_Mais_Elevado               39879 non-null  float64\n",
      " 6   Diagnostico_Depressao            39879 non-null  float64\n",
      " 7   A005010                          39879 non-null  float64\n",
      " 8   Estado_de_Saude                  39879 non-null  float64\n",
      " 9   Pratica_Exercicio                39879 non-null  float64\n",
      " 10  Exercicio_Mais_Frequente         39879 non-null  float64\n",
      " 11  Ultima_Consulta_Medica           39879 non-null  float64\n",
      " 12  Procura_Atendimento_Saude        39879 non-null  float64\n",
      " 13  Problemas_Sono                   39879 non-null  float64\n",
      " 14  Consumo_Arroz_Macarrao           39879 non-null  float64\n",
      " 15  Consumo_Batata                   39879 non-null  float64\n",
      " 16  Consumo_Feijao                   39879 non-null  float64\n",
      " 17  Consumo_Carne                    39879 non-null  float64\n",
      " 18  Consumo_Ovo                      39879 non-null  float64\n",
      " 19  Consumo_Verduras_1               39879 non-null  float64\n",
      " 20  Consumo_Verduras_2               39879 non-null  float64\n",
      " 21  Consumo_Verduras_3               39879 non-null  float64\n",
      " 22  Consumo_Frutas_1                 39879 non-null  float64\n",
      " 23  Consumo_Frutas_2                 39879 non-null  float64\n",
      " 24  Consumo_Leite                    39879 non-null  float64\n",
      " 25  Consumo_Castanhas                39879 non-null  float64\n",
      " 26  Consumo_Refrigerante             39879 non-null  float64\n",
      " 27  Consumo_Suco_Caixinha            39879 non-null  float64\n",
      " 28  Consumo_Bebida_Achocolatada      39879 non-null  float64\n",
      " 29  Consumo_Salgadinho_Biscoito      39879 non-null  float64\n",
      " 30  Consumo_Biscoito_Doce            39879 non-null  float64\n",
      " 31  Consumo_Sobremesa                39879 non-null  float64\n",
      " 32  Consumo_Embutidos                39879 non-null  float64\n",
      " 33  Consumo_Pao                      39879 non-null  float64\n",
      " 34  Consumo_Molhos_Industrializados  39879 non-null  float64\n",
      " 35  Consumo_Alimentos_Prontos        39879 non-null  float64\n",
      " 36  Freq_Consumo_Feijao              39879 non-null  float64\n",
      " 37  Freq_Consumo_Verduras            39879 non-null  float64\n",
      " 38  Tipo_Verdura_Costuma_Comer       39879 non-null  float64\n",
      " 39  Freq_Consumo_Carne_Vermelha      39879 non-null  float64\n",
      " 40  Freq_Consumo_Frango              39879 non-null  float64\n",
      " 41  Freq_Consumo_Peixe               39879 non-null  float64\n",
      " 42  Freq_Consumo_Suco_Caixinha       39879 non-null  float64\n",
      " 43  Freq_Consumo_Suco_Natural        39879 non-null  float64\n",
      " 44  Freq_Consumo_Frutas              39879 non-null  float64\n",
      " 45  Freq_Comer_Frutas_Dia            39879 non-null  float64\n",
      " 46  Freq_Consumo_Refrigerante        39879 non-null  float64\n",
      " 47  Freq_Consumo_Leite               39879 non-null  float64\n",
      " 48  Tipo_Leite                       39879 non-null  float64\n",
      " 49  Freq_Consumo_Doces               39879 non-null  float64\n",
      " 50  Freq_Substituicao_Refeicao       39879 non-null  float64\n",
      " 51  IMC                              39879 non-null  float64\n",
      " 52  renda_total                      39879 non-null  float64\n",
      " 53  idade                            39879 non-null  float64\n",
      " 54  trabalhou                        39879 non-null  float64\n",
      " 55  horas_trabalhadas_total          39879 non-null  float64\n",
      " 56  doencas_cronicas                 39879 non-null  int64  \n",
      " 57  saneamento_basico                39879 non-null  int64  \n",
      " 58  moradia_vulneravel               39879 non-null  int64  \n",
      " 59  tempo_total_exercicio            39879 non-null  float64\n",
      " 60  frequencia_exercicio             39879 non-null  float64\n",
      " 61  freq_bebida_alcoolica            39879 non-null  float64\n",
      "dtypes: float64(58), int64(4)\n",
      "memory usage: 18.9 MB\n"
     ]
    }
   ],
   "source": [
    "df.info()"
   ]
  },
  {
   "cell_type": "code",
   "execution_count": 75,
   "metadata": {},
   "outputs": [
    {
     "data": {
      "text/plain": [
       "Index(['Unnamed: 0', 'Sexo', 'Apoio_Familiar', 'Apoio_de_Amigos',\n",
       "       'Tipo_de_Trabalho', 'Curso_Mais_Elevado', 'Diagnostico_Depressao',\n",
       "       'A005010', 'Estado_de_Saude', 'Pratica_Exercicio',\n",
       "       'Exercicio_Mais_Frequente', 'Ultima_Consulta_Medica',\n",
       "       'Procura_Atendimento_Saude', 'Problemas_Sono', 'Consumo_Arroz_Macarrao',\n",
       "       'Consumo_Batata', 'Consumo_Feijao', 'Consumo_Carne', 'Consumo_Ovo',\n",
       "       'Consumo_Verduras_1', 'Consumo_Verduras_2', 'Consumo_Verduras_3',\n",
       "       'Consumo_Frutas_1', 'Consumo_Frutas_2', 'Consumo_Leite',\n",
       "       'Consumo_Castanhas', 'Consumo_Refrigerante', 'Consumo_Suco_Caixinha',\n",
       "       'Consumo_Bebida_Achocolatada', 'Consumo_Salgadinho_Biscoito',\n",
       "       'Consumo_Biscoito_Doce', 'Consumo_Sobremesa', 'Consumo_Embutidos',\n",
       "       'Consumo_Pao', 'Consumo_Molhos_Industrializados',\n",
       "       'Consumo_Alimentos_Prontos', 'Freq_Consumo_Feijao',\n",
       "       'Freq_Consumo_Verduras', 'Tipo_Verdura_Costuma_Comer',\n",
       "       'Freq_Consumo_Carne_Vermelha', 'Freq_Consumo_Frango',\n",
       "       'Freq_Consumo_Peixe', 'Freq_Consumo_Suco_Caixinha',\n",
       "       'Freq_Consumo_Suco_Natural', 'Freq_Consumo_Frutas',\n",
       "       'Freq_Comer_Frutas_Dia', 'Freq_Consumo_Refrigerante',\n",
       "       'Freq_Consumo_Leite', 'Tipo_Leite', 'Freq_Consumo_Doces',\n",
       "       'Freq_Substituicao_Refeicao', 'IMC', 'renda_total', 'idade',\n",
       "       'trabalhou', 'horas_trabalhadas_total', 'doencas_cronicas',\n",
       "       'saneamento_basico', 'moradia_vulneravel', 'tempo_total_exercicio',\n",
       "       'frequencia_exercicio', 'freq_bebida_alcoolica'],\n",
       "      dtype='object')"
      ]
     },
     "execution_count": 75,
     "metadata": {},
     "output_type": "execute_result"
    }
   ],
   "source": [
    "df.columns"
   ]
  },
  {
   "cell_type": "code",
   "execution_count": 76,
   "metadata": {},
   "outputs": [
    {
     "name": "stdout",
     "output_type": "stream",
     "text": [
      "Unnamed: 0               category\n",
      "Sexo                     category\n",
      "Apoio_Familiar           category\n",
      "Apoio_de_Amigos          category\n",
      "Tipo_de_Trabalho         category\n",
      "                           ...   \n",
      "saneamento_basico        category\n",
      "moradia_vulneravel       category\n",
      "tempo_total_exercicio    category\n",
      "frequencia_exercicio     category\n",
      "freq_bebida_alcoolica    category\n",
      "Length: 62, dtype: object\n"
     ]
    }
   ],
   "source": [
    "# Converter todas as colunas para o tipo categórico\n",
    "df = df.astype('category')\n",
    "\n",
    "# Verificar o tipo de dados das colunas após a conversão\n",
    "print(df.dtypes)"
   ]
  },
  {
   "cell_type": "code",
   "execution_count": 77,
   "metadata": {},
   "outputs": [],
   "source": [
    "df[['idade', 'IMC', 'renda_total']] = df[['idade', 'IMC', 'renda_total']].astype('float') "
   ]
  },
  {
   "cell_type": "code",
   "execution_count": 78,
   "metadata": {},
   "outputs": [
    {
     "name": "stdout",
     "output_type": "stream",
     "text": [
      "<class 'pandas.core.frame.DataFrame'>\n",
      "RangeIndex: 39879 entries, 0 to 39878\n",
      "Data columns (total 62 columns):\n",
      " #   Column                           Non-Null Count  Dtype   \n",
      "---  ------                           --------------  -----   \n",
      " 0   Unnamed: 0                       39879 non-null  category\n",
      " 1   Sexo                             39879 non-null  category\n",
      " 2   Apoio_Familiar                   39879 non-null  category\n",
      " 3   Apoio_de_Amigos                  39879 non-null  category\n",
      " 4   Tipo_de_Trabalho                 39879 non-null  category\n",
      " 5   Curso_Mais_Elevado               39879 non-null  category\n",
      " 6   Diagnostico_Depressao            39879 non-null  category\n",
      " 7   A005010                          39879 non-null  category\n",
      " 8   Estado_de_Saude                  39879 non-null  category\n",
      " 9   Pratica_Exercicio                39879 non-null  category\n",
      " 10  Exercicio_Mais_Frequente         39879 non-null  category\n",
      " 11  Ultima_Consulta_Medica           39879 non-null  category\n",
      " 12  Procura_Atendimento_Saude        39879 non-null  category\n",
      " 13  Problemas_Sono                   39879 non-null  category\n",
      " 14  Consumo_Arroz_Macarrao           39879 non-null  category\n",
      " 15  Consumo_Batata                   39879 non-null  category\n",
      " 16  Consumo_Feijao                   39879 non-null  category\n",
      " 17  Consumo_Carne                    39879 non-null  category\n",
      " 18  Consumo_Ovo                      39879 non-null  category\n",
      " 19  Consumo_Verduras_1               39879 non-null  category\n",
      " 20  Consumo_Verduras_2               39879 non-null  category\n",
      " 21  Consumo_Verduras_3               39879 non-null  category\n",
      " 22  Consumo_Frutas_1                 39879 non-null  category\n",
      " 23  Consumo_Frutas_2                 39879 non-null  category\n",
      " 24  Consumo_Leite                    39879 non-null  category\n",
      " 25  Consumo_Castanhas                39879 non-null  category\n",
      " 26  Consumo_Refrigerante             39879 non-null  category\n",
      " 27  Consumo_Suco_Caixinha            39879 non-null  category\n",
      " 28  Consumo_Bebida_Achocolatada      39879 non-null  category\n",
      " 29  Consumo_Salgadinho_Biscoito      39879 non-null  category\n",
      " 30  Consumo_Biscoito_Doce            39879 non-null  category\n",
      " 31  Consumo_Sobremesa                39879 non-null  category\n",
      " 32  Consumo_Embutidos                39879 non-null  category\n",
      " 33  Consumo_Pao                      39879 non-null  category\n",
      " 34  Consumo_Molhos_Industrializados  39879 non-null  category\n",
      " 35  Consumo_Alimentos_Prontos        39879 non-null  category\n",
      " 36  Freq_Consumo_Feijao              39879 non-null  category\n",
      " 37  Freq_Consumo_Verduras            39879 non-null  category\n",
      " 38  Tipo_Verdura_Costuma_Comer       39879 non-null  category\n",
      " 39  Freq_Consumo_Carne_Vermelha      39879 non-null  category\n",
      " 40  Freq_Consumo_Frango              39879 non-null  category\n",
      " 41  Freq_Consumo_Peixe               39879 non-null  category\n",
      " 42  Freq_Consumo_Suco_Caixinha       39879 non-null  category\n",
      " 43  Freq_Consumo_Suco_Natural        39879 non-null  category\n",
      " 44  Freq_Consumo_Frutas              39879 non-null  category\n",
      " 45  Freq_Comer_Frutas_Dia            39879 non-null  category\n",
      " 46  Freq_Consumo_Refrigerante        39879 non-null  category\n",
      " 47  Freq_Consumo_Leite               39879 non-null  category\n",
      " 48  Tipo_Leite                       39879 non-null  category\n",
      " 49  Freq_Consumo_Doces               39879 non-null  category\n",
      " 50  Freq_Substituicao_Refeicao       39879 non-null  category\n",
      " 51  IMC                              39879 non-null  float64 \n",
      " 52  renda_total                      39879 non-null  float64 \n",
      " 53  idade                            39879 non-null  float64 \n",
      " 54  trabalhou                        39879 non-null  category\n",
      " 55  horas_trabalhadas_total          39879 non-null  category\n",
      " 56  doencas_cronicas                 39879 non-null  category\n",
      " 57  saneamento_basico                39879 non-null  category\n",
      " 58  moradia_vulneravel               39879 non-null  category\n",
      " 59  tempo_total_exercicio            39879 non-null  category\n",
      " 60  frequencia_exercicio             39879 non-null  category\n",
      " 61  freq_bebida_alcoolica            39879 non-null  category\n",
      "dtypes: category(59), float64(3)\n",
      "memory usage: 4.6 MB\n"
     ]
    }
   ],
   "source": [
    "df.info()"
   ]
  },
  {
   "cell_type": "code",
   "execution_count": 79,
   "metadata": {},
   "outputs": [],
   "source": [
    "# Calcular a entropia para cada variável categórica\n",
    "entropias_categoricas = {}\n",
    "for coluna in df.select_dtypes(include='category'):\n",
    "    entropias_categoricas[coluna] = calcular_entropia_categorica(df[coluna])"
   ]
  },
  {
   "cell_type": "code",
   "execution_count": 80,
   "metadata": {},
   "outputs": [
    {
     "name": "stdout",
     "output_type": "stream",
     "text": [
      "Entropias calculadas para variáveis categóricas:\n",
      "A entropia da variável 'Unnamed: 0' é: 15.283341612919305\n",
      "A entropia da variável 'Sexo' é: 0.9979159430701356\n",
      "A entropia da variável 'Apoio_Familiar' é: 1.4024245152562977\n",
      "A entropia da variável 'Apoio_de_Amigos' é: 1.7986550904870322\n",
      "A entropia da variável 'Tipo_de_Trabalho' é: 2.3114011760490674\n",
      "A entropia da variável 'Curso_Mais_Elevado' é: 2.637234749633678\n",
      "A entropia da variável 'Diagnostico_Depressao' é: 0.5108840827566314\n",
      "A entropia da variável 'A005010' é: 1.2306129306751352\n",
      "A entropia da variável 'Estado_de_Saude' é: 1.6095602255958354\n",
      "A entropia da variável 'Pratica_Exercicio' é: 0.9442857548646282\n",
      "A entropia da variável 'Exercicio_Mais_Frequente' é: 1.8980795813203943\n",
      "A entropia da variável 'Ultima_Consulta_Medica' é: 1.0400895674259731\n",
      "A entropia da variável 'Procura_Atendimento_Saude' é: 0.7739604812476111\n",
      "A entropia da variável 'Problemas_Sono' é: 1.5456922040537238\n",
      "A entropia da variável 'Consumo_Arroz_Macarrao' é: 0.46277267098879615\n",
      "A entropia da variável 'Consumo_Batata' é: 0.9723613827819598\n",
      "A entropia da variável 'Consumo_Feijao' é: 0.7504170011388649\n",
      "A entropia da variável 'Consumo_Carne' é: 0.4275254980479679\n",
      "A entropia da variável 'Consumo_Ovo' é: 0.9745601421392174\n",
      "A entropia da variável 'Consumo_Verduras_1' é: 0.9987391780171819\n",
      "A entropia da variável 'Consumo_Verduras_2' é: 0.9659419111106216\n",
      "A entropia da variável 'Consumo_Verduras_3' é: 0.9723327739411749\n",
      "A entropia da variável 'Consumo_Frutas_1' é: 0.924894032074554\n",
      "A entropia da variável 'Consumo_Frutas_2' é: 0.9633638670219059\n",
      "A entropia da variável 'Consumo_Leite' é: 0.9918031979533779\n",
      "A entropia da variável 'Consumo_Castanhas' é: 0.5617364388334943\n",
      "A entropia da variável 'Consumo_Refrigerante' é: 0.8213431566618685\n",
      "A entropia da variável 'Consumo_Suco_Caixinha' é: 0.7018379885544692\n",
      "A entropia da variável 'Consumo_Bebida_Achocolatada' é: 0.48895118165140333\n",
      "A entropia da variável 'Consumo_Salgadinho_Biscoito' é: 0.7243388310480174\n",
      "A entropia da variável 'Consumo_Biscoito_Doce' é: 0.68339990327768\n",
      "A entropia da variável 'Consumo_Sobremesa' é: 0.603030879137509\n",
      "A entropia da variável 'Consumo_Embutidos' é: 0.7637964051682795\n",
      "A entropia da variável 'Consumo_Pao' é: 0.8425660491114517\n",
      "A entropia da variável 'Consumo_Molhos_Industrializados' é: 0.9654949079582347\n",
      "A entropia da variável 'Consumo_Alimentos_Prontos' é: 0.2633757637692593\n",
      "A entropia da variável 'Freq_Consumo_Feijao' é: 2.3072905879869414\n",
      "A entropia da variável 'Freq_Consumo_Verduras' é: 2.5709444692786656\n",
      "A entropia da variável 'Tipo_Verdura_Costuma_Comer' é: 1.096962169912881\n",
      "A entropia da variável 'Freq_Consumo_Carne_Vermelha' é: 2.830874121897675\n",
      "A entropia da variável 'Freq_Consumo_Frango' é: 2.700592475303917\n",
      "A entropia da variável 'Freq_Consumo_Peixe' é: 2.1253002425194807\n",
      "A entropia da variável 'Freq_Consumo_Suco_Caixinha' é: 1.6260872123357442\n",
      "A entropia da variável 'Freq_Consumo_Suco_Natural' é: 2.7453820756424245\n",
      "A entropia da variável 'Freq_Consumo_Frutas' é: 2.710807042424325\n",
      "A entropia da variável 'Freq_Comer_Frutas_Dia' é: 1.3969381891186439\n",
      "A entropia da variável 'Freq_Consumo_Refrigerante' é: 1.8288019627480068\n",
      "A entropia da variável 'Freq_Consumo_Leite' é: 2.337976081765797\n",
      "A entropia da variável 'Tipo_Leite' é: 1.5109748309401694\n",
      "A entropia da variável 'Freq_Consumo_Doces' é: 2.150886804672423\n",
      "A entropia da variável 'Freq_Substituicao_Refeicao' é: 0.944746831674105\n",
      "A entropia da variável 'trabalhou' é: 0.9760321358865023\n",
      "A entropia da variável 'horas_trabalhadas_total' é: 3.6426665411654153\n",
      "A entropia da variável 'doencas_cronicas' é: 0.9595331497963113\n",
      "A entropia da variável 'saneamento_basico' é: 0.11020708562007149\n",
      "A entropia da variável 'moradia_vulneravel' é: 0.6332502906217629\n",
      "A entropia da variável 'tempo_total_exercicio' é: 1.9972883652093745\n",
      "A entropia da variável 'frequencia_exercicio' é: 1.9010869585323464\n",
      "A entropia da variável 'freq_bebida_alcoolica' é: 1.3148123611815679\n"
     ]
    }
   ],
   "source": [
    "\n",
    "# Exibir os resultados das entropias calculadas para variáveis categóricas\n",
    "print(\"Entropias calculadas para variáveis categóricas:\")\n",
    "for variavel, entropia in entropias_categoricas.items():\n",
    "    print(f\"A entropia da variável '{variavel}' é: {entropia}\")"
   ]
  },
  {
   "cell_type": "code",
   "execution_count": 81,
   "metadata": {},
   "outputs": [],
   "source": [
    "# Calcular a entropia para cada variável numérica\n",
    "entropias_numericas = {}\n",
    "for coluna in ['idade', 'IMC', 'renda_total']:\n",
    "    entropias_numericas[coluna] = calcular_entropia_numerica(df[coluna])"
   ]
  },
  {
   "cell_type": "code",
   "execution_count": 82,
   "metadata": {},
   "outputs": [
    {
     "name": "stdout",
     "output_type": "stream",
     "text": [
      "\n",
      "Entropias calculadas para variáveis numéricas:\n",
      "A entropia da variável 'idade' é: 0.9822066582755408\n",
      "A entropia da variável 'IMC' é: 0.9999918763271203\n",
      "A entropia da variável 'renda_total' é: 0.9999999575333824\n"
     ]
    }
   ],
   "source": [
    "\n",
    "# Exibir os resultados das entropias calculadas para variáveis numéricas\n",
    "print(\"\\nEntropias calculadas para variáveis numéricas:\")\n",
    "for variavel, entropia in entropias_numericas.items():\n",
    "    print(f\"A entropia da variável '{variavel}' é: {entropia}\")"
   ]
  },
  {
   "cell_type": "code",
   "execution_count": null,
   "metadata": {},
   "outputs": [],
   "source": []
  }
 ],
 "metadata": {
  "kernelspec": {
   "display_name": "Python 3",
   "language": "python",
   "name": "python3"
  },
  "language_info": {
   "codemirror_mode": {
    "name": "ipython",
    "version": 3
   },
   "file_extension": ".py",
   "mimetype": "text/x-python",
   "name": "python",
   "nbconvert_exporter": "python",
   "pygments_lexer": "ipython3",
   "version": "3.11.9"
  }
 },
 "nbformat": 4,
 "nbformat_minor": 2
}
